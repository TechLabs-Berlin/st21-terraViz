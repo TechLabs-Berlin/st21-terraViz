{
 "cells": [
  {
   "cell_type": "code",
   "execution_count": 29,
   "metadata": {},
   "outputs": [],
   "source": [
    "import pandas as pd\n",
    "import numpy as np\n",
    "import matplotlib.pyplot as plt\n",
    "from mapboxgl.utils import *"
   ]
  },
  {
   "cell_type": "markdown",
   "metadata": {},
   "source": []
  },
  {
   "cell_type": "code",
   "execution_count": 2,
   "metadata": {},
   "outputs": [
    {
     "data": {
      "text/html": [
       "<div>\n",
       "<style scoped>\n",
       "    .dataframe tbody tr th:only-of-type {\n",
       "        vertical-align: middle;\n",
       "    }\n",
       "\n",
       "    .dataframe tbody tr th {\n",
       "        vertical-align: top;\n",
       "    }\n",
       "\n",
       "    .dataframe thead th {\n",
       "        text-align: right;\n",
       "    }\n",
       "</style>\n",
       "<table border=\"1\" class=\"dataframe\">\n",
       "  <thead>\n",
       "    <tr style=\"text-align: right;\">\n",
       "      <th></th>\n",
       "      <th>country</th>\n",
       "      <th>latitude</th>\n",
       "      <th>longitude</th>\n",
       "      <th>name</th>\n",
       "    </tr>\n",
       "  </thead>\n",
       "  <tbody>\n",
       "    <tr>\n",
       "      <th>0</th>\n",
       "      <td>AA</td>\n",
       "      <td>60.178525</td>\n",
       "      <td>19.915610</td>\n",
       "      <td>Åland</td>\n",
       "    </tr>\n",
       "    <tr>\n",
       "      <th>1</th>\n",
       "      <td>AD</td>\n",
       "      <td>42.546245</td>\n",
       "      <td>1.601554</td>\n",
       "      <td>Andorra</td>\n",
       "    </tr>\n",
       "    <tr>\n",
       "      <th>2</th>\n",
       "      <td>AE</td>\n",
       "      <td>23.424076</td>\n",
       "      <td>53.847818</td>\n",
       "      <td>United Arab Emirates</td>\n",
       "    </tr>\n",
       "    <tr>\n",
       "      <th>3</th>\n",
       "      <td>AF</td>\n",
       "      <td>33.939110</td>\n",
       "      <td>67.709953</td>\n",
       "      <td>Afghanistan</td>\n",
       "    </tr>\n",
       "    <tr>\n",
       "      <th>4</th>\n",
       "      <td>AG</td>\n",
       "      <td>17.060816</td>\n",
       "      <td>-61.796428</td>\n",
       "      <td>Antigua And Barbuda</td>\n",
       "    </tr>\n",
       "  </tbody>\n",
       "</table>\n",
       "</div>"
      ],
      "text/plain": [
       "  country   latitude  longitude                  name\n",
       "0      AA  60.178525  19.915610                 Åland\n",
       "1      AD  42.546245   1.601554               Andorra\n",
       "2      AE  23.424076  53.847818  United Arab Emirates\n",
       "3      AF  33.939110  67.709953           Afghanistan\n",
       "4      AG  17.060816 -61.796428   Antigua And Barbuda"
      ]
     },
     "execution_count": 2,
     "metadata": {},
     "output_type": "execute_result"
    }
   ],
   "source": [
    "#import coordinates\n",
    "df_geoloc = pd.read_csv(\"countries_geoloc.csv\")\n",
    "df_geoloc.head(5)"
   ]
  },
  {
   "cell_type": "code",
   "execution_count": null,
   "metadata": {},
   "outputs": [],
   "source": []
  },
  {
   "cell_type": "code",
   "execution_count": 3,
   "metadata": {},
   "outputs": [
    {
     "data": {
      "text/html": [
       "<div>\n",
       "<style scoped>\n",
       "    .dataframe tbody tr th:only-of-type {\n",
       "        vertical-align: middle;\n",
       "    }\n",
       "\n",
       "    .dataframe tbody tr th {\n",
       "        vertical-align: top;\n",
       "    }\n",
       "\n",
       "    .dataframe thead th {\n",
       "        text-align: right;\n",
       "    }\n",
       "</style>\n",
       "<table border=\"1\" class=\"dataframe\">\n",
       "  <thead>\n",
       "    <tr style=\"text-align: right;\">\n",
       "      <th></th>\n",
       "      <th>AverageTemperature</th>\n",
       "      <th>AverageTemperatureUncertainty</th>\n",
       "      <th>Country</th>\n",
       "    </tr>\n",
       "    <tr>\n",
       "      <th>dt</th>\n",
       "      <th></th>\n",
       "      <th></th>\n",
       "      <th></th>\n",
       "    </tr>\n",
       "  </thead>\n",
       "  <tbody>\n",
       "    <tr>\n",
       "      <th>1743-11-01</th>\n",
       "      <td>4.384</td>\n",
       "      <td>2.294</td>\n",
       "      <td>Åland</td>\n",
       "    </tr>\n",
       "    <tr>\n",
       "      <th>1743-12-01</th>\n",
       "      <td>NaN</td>\n",
       "      <td>NaN</td>\n",
       "      <td>Åland</td>\n",
       "    </tr>\n",
       "    <tr>\n",
       "      <th>1744-01-01</th>\n",
       "      <td>NaN</td>\n",
       "      <td>NaN</td>\n",
       "      <td>Åland</td>\n",
       "    </tr>\n",
       "    <tr>\n",
       "      <th>1744-02-01</th>\n",
       "      <td>NaN</td>\n",
       "      <td>NaN</td>\n",
       "      <td>Åland</td>\n",
       "    </tr>\n",
       "    <tr>\n",
       "      <th>1744-03-01</th>\n",
       "      <td>NaN</td>\n",
       "      <td>NaN</td>\n",
       "      <td>Åland</td>\n",
       "    </tr>\n",
       "  </tbody>\n",
       "</table>\n",
       "</div>"
      ],
      "text/plain": [
       "            AverageTemperature  AverageTemperatureUncertainty Country\n",
       "dt                                                                   \n",
       "1743-11-01               4.384                          2.294   Åland\n",
       "1743-12-01                 NaN                            NaN   Åland\n",
       "1744-01-01                 NaN                            NaN   Åland\n",
       "1744-02-01                 NaN                            NaN   Åland\n",
       "1744-03-01                 NaN                            NaN   Åland"
      ]
     },
     "execution_count": 3,
     "metadata": {},
     "output_type": "execute_result"
    }
   ],
   "source": [
    "#import main temp dataset\n",
    "df_temp = pd.read_csv(\"countries_temp.csv\", index_col = \"dt\", parse_dates=True)\n",
    "df_temp.head(5)"
   ]
  },
  {
   "cell_type": "code",
   "execution_count": 4,
   "metadata": {},
   "outputs": [
    {
     "name": "stdout",
     "output_type": "stream",
     "text": [
      "        AverageTemperature  AverageTemperatureUncertainty   Country country  \\\n",
      "0                    4.384                          2.294     Åland      AA   \n",
      "1                      NaN                            NaN     Åland      AA   \n",
      "2                      NaN                            NaN     Åland      AA   \n",
      "3                      NaN                            NaN     Åland      AA   \n",
      "4                      NaN                            NaN     Åland      AA   \n",
      "...                    ...                            ...       ...     ...   \n",
      "577457              19.059                          1.022  Zimbabwe      ZW   \n",
      "577458              17.613                          0.473  Zimbabwe      ZW   \n",
      "577459              17.000                          0.453  Zimbabwe      ZW   \n",
      "577460              19.759                          0.717  Zimbabwe      ZW   \n",
      "577461                 NaN                            NaN  Zimbabwe      ZW   \n",
      "\n",
      "         latitude  longitude      name  \n",
      "0       60.178525  19.915610     Åland  \n",
      "1       60.178525  19.915610     Åland  \n",
      "2       60.178525  19.915610     Åland  \n",
      "3       60.178525  19.915610     Åland  \n",
      "4       60.178525  19.915610     Åland  \n",
      "...           ...        ...       ...  \n",
      "577457 -19.015438  29.154857  Zimbabwe  \n",
      "577458 -19.015438  29.154857  Zimbabwe  \n",
      "577459 -19.015438  29.154857  Zimbabwe  \n",
      "577460 -19.015438  29.154857  Zimbabwe  \n",
      "577461 -19.015438  29.154857  Zimbabwe  \n",
      "\n",
      "[577462 rows x 7 columns]\n"
     ]
    }
   ],
   "source": [
    "#join coordinates and main temp\n",
    "df_left = pd.merge(df_temp, df_geoloc, how=\"left\", left_on=\"Country\", right_on=\"name\")\n",
    "print(df_left)\n",
    "    "
   ]
  },
  {
   "cell_type": "code",
   "execution_count": 5,
   "metadata": {},
   "outputs": [
    {
     "name": "stdout",
     "output_type": "stream",
     "text": [
      "        AverageTemperature  AverageTemperatureUncertainty    Country country  \\\n",
      "313446               5.431                          2.487  Macedonia      MK   \n",
      "313447                 NaN                            NaN  Macedonia      MK   \n",
      "313448                 NaN                            NaN  Macedonia      MK   \n",
      "313449                 NaN                            NaN  Macedonia      MK   \n",
      "313450                 NaN                            NaN  Macedonia      MK   \n",
      "...                    ...                            ...        ...     ...   \n",
      "316680              17.718                          0.651  Macedonia      MK   \n",
      "316681              19.880                          0.423  Macedonia      MK   \n",
      "316682              22.328                          0.653  Macedonia      MK   \n",
      "316683              23.585                          0.745  Macedonia      MK   \n",
      "316684                 NaN                            NaN  Macedonia      MK   \n",
      "\n",
      "         latitude  longitude       name  \n",
      "313446  41.608635  21.745275  Macedonia  \n",
      "313447  41.608635  21.745275  Macedonia  \n",
      "313448  41.608635  21.745275  Macedonia  \n",
      "313449  41.608635  21.745275  Macedonia  \n",
      "313450  41.608635  21.745275  Macedonia  \n",
      "...           ...        ...        ...  \n",
      "316680  41.608635  21.745275  Macedonia  \n",
      "316681  41.608635  21.745275  Macedonia  \n",
      "316682  41.608635  21.745275  Macedonia  \n",
      "316683  41.608635  21.745275  Macedonia  \n",
      "316684  41.608635  21.745275  Macedonia  \n",
      "\n",
      "[3239 rows x 7 columns]\n"
     ]
    }
   ],
   "source": [
    "print(df_left[df_left[\"Country\"] == \"Macedonia\"])"
   ]
  },
  {
   "cell_type": "code",
   "execution_count": 6,
   "metadata": {},
   "outputs": [
    {
     "name": "stdout",
     "output_type": "stream",
     "text": [
      "        AverageTemperature  AverageTemperatureUncertainty   Country country  \\\n",
      "0                    4.384                          2.294     Åland      AA   \n",
      "1                      NaN                            NaN     Åland      AA   \n",
      "2                      NaN                            NaN     Åland      AA   \n",
      "3                      NaN                            NaN     Åland      AA   \n",
      "4                      NaN                            NaN     Åland      AA   \n",
      "...                    ...                            ...       ...     ...   \n",
      "577457              19.059                          1.022  Zimbabwe      ZW   \n",
      "577458              17.613                          0.473  Zimbabwe      ZW   \n",
      "577459              17.000                          0.453  Zimbabwe      ZW   \n",
      "577460              19.759                          0.717  Zimbabwe      ZW   \n",
      "577461                 NaN                            NaN  Zimbabwe      ZW   \n",
      "\n",
      "         latitude  longitude      name  \n",
      "0       60.178525  19.915610     Åland  \n",
      "1       60.178525  19.915610     Åland  \n",
      "2       60.178525  19.915610     Åland  \n",
      "3       60.178525  19.915610     Åland  \n",
      "4       60.178525  19.915610     Åland  \n",
      "...           ...        ...       ...  \n",
      "577457 -19.015438  29.154857  Zimbabwe  \n",
      "577458 -19.015438  29.154857  Zimbabwe  \n",
      "577459 -19.015438  29.154857  Zimbabwe  \n",
      "577460 -19.015438  29.154857  Zimbabwe  \n",
      "577461 -19.015438  29.154857  Zimbabwe  \n",
      "\n",
      "[577462 rows x 7 columns]\n"
     ]
    }
   ],
   "source": [
    "df_left_new = pd.merge(df_temp, df_geoloc, how=\"left\", left_on=\"Country\", right_on=\"name\")\n",
    "print(df_left_new)"
   ]
  },
  {
   "cell_type": "code",
   "execution_count": 7,
   "metadata": {},
   "outputs": [
    {
     "name": "stdout",
     "output_type": "stream",
     "text": [
      "                               country\n",
      "8                 Netherlands Antilles\n",
      "27                             Bermuda\n",
      "28                              Brunei\n",
      "33                       Bouvet Island\n",
      "38             Cocos [Keeling] Islands\n",
      "44                        Cook Islands\n",
      "71                          Micronesia\n",
      "81                           Gibraltar\n",
      "105     British Indian Ocean Territory\n",
      "141                   Marshall Islands\n",
      "153                           Maldives\n",
      "161                     Norfolk Island\n",
      "167                              Nauru\n",
      "179                   Pitcairn Islands\n",
      "198                       Saint Helena\n",
      "208              S?o Tom? and Pr?ncipe\n",
      "220                            Tokelau\n",
      "227                             Tuvalu\n",
      "232        U.S. Minor Outlying Islands\n",
      "236                       Vatican City\n",
      "241                            Vanuatu\n",
      "242                  Wallis and Futuna\n",
      "244                             Kosovo\n",
      "2                               Africa\n",
      "14                                Asia\n",
      "29   Bonaire, Saint Eustatius And Saba\n",
      "33              British Virgin Islands\n",
      "56                             Curaçao\n",
      "60                             Denmark\n",
      "71                              Europe\n",
      "74      Federated States Of Micronesia\n",
      "78                              France\n",
      "118                       Kingman Reef\n",
      "153                        Netherlands\n",
      "160                      North America\n",
      "164                            Oceania\n",
      "186                       Saint Martin\n",
      "204                      South America\n",
      "232                     United Kingdom\n",
      "(39, 1)\n"
     ]
    }
   ],
   "source": [
    "list_geoloc_unique = df_geoloc.name.unique()\n",
    "list_temp_unique = df_temp.Country.unique()\n",
    "np_geoloc = np.array(list_geoloc_unique)\n",
    "np_temp = np.array(list_temp_unique)\n",
    "#df_geoloc_unique = pd.DataFrame(np_geoloc, columns=['country']).applymap(lambda x: x.lower())\n",
    "#df_temp_unique = pd.DataFrame(np_temp, columns =[\"country\"]).applymap(lambda x: x.lower())\n",
    "df_geoloc_unique = pd.DataFrame(np_geoloc, columns=['country'])\n",
    "df_temp_unique = pd.DataFrame(np_temp, columns =[\"country\"])\n",
    "\n",
    "df_differences = pd.concat([df_geoloc_unique, df_temp_unique]).drop_duplicates(keep=False)\n",
    "\n",
    "print(df_differences)\n",
    "print(df_differences.shape)"
   ]
  },
  {
   "cell_type": "code",
   "execution_count": 8,
   "metadata": {},
   "outputs": [
    {
     "name": "stdout",
     "output_type": "stream",
     "text": [
      "        AverageTemperature   Country   latitude  longitude\n",
      "0                    4.384     Åland  60.178525  19.915610\n",
      "1                      NaN     Åland  60.178525  19.915610\n",
      "2                      NaN     Åland  60.178525  19.915610\n",
      "3                      NaN     Åland  60.178525  19.915610\n",
      "4                      NaN     Åland  60.178525  19.915610\n",
      "...                    ...       ...        ...        ...\n",
      "577457              19.059  Zimbabwe -19.015438  29.154857\n",
      "577458              17.613  Zimbabwe -19.015438  29.154857\n",
      "577459              17.000  Zimbabwe -19.015438  29.154857\n",
      "577460              19.759  Zimbabwe -19.015438  29.154857\n",
      "577461                 NaN  Zimbabwe -19.015438  29.154857\n",
      "\n",
      "[577462 rows x 4 columns]\n"
     ]
    }
   ],
   "source": [
    "#filter columns of merged dataframe\n",
    "df_filtered = df_left[[\"AverageTemperature\", \"Country\", \"latitude\", \"longitude\"]]\n",
    "print(df_filtered)"
   ]
  },
  {
   "cell_type": "code",
   "execution_count": 9,
   "metadata": {},
   "outputs": [
    {
     "name": "stdout",
     "output_type": "stream",
     "text": [
      "        AverageTemperature   Country   latitude  longitude  \\\n",
      "0                    4.384     Åland  60.178525  19.915610   \n",
      "1                      NaN     Åland  60.178525  19.915610   \n",
      "2                      NaN     Åland  60.178525  19.915610   \n",
      "3                      NaN     Åland  60.178525  19.915610   \n",
      "4                      NaN     Åland  60.178525  19.915610   \n",
      "...                    ...       ...        ...        ...   \n",
      "577457              19.059  Zimbabwe -19.015438  29.154857   \n",
      "577458              17.613  Zimbabwe -19.015438  29.154857   \n",
      "577459              17.000  Zimbabwe -19.015438  29.154857   \n",
      "577460              19.759  Zimbabwe -19.015438  29.154857   \n",
      "577461                 NaN  Zimbabwe -19.015438  29.154857   \n",
      "\n",
      "                    coordinates  \n",
      "0        (60.1785247, 19.91561)  \n",
      "1        (60.1785247, 19.91561)  \n",
      "2        (60.1785247, 19.91561)  \n",
      "3        (60.1785247, 19.91561)  \n",
      "4        (60.1785247, 19.91561)  \n",
      "...                         ...  \n",
      "577457  (-19.015438, 29.154857)  \n",
      "577458  (-19.015438, 29.154857)  \n",
      "577459  (-19.015438, 29.154857)  \n",
      "577460  (-19.015438, 29.154857)  \n",
      "577461  (-19.015438, 29.154857)  \n",
      "\n",
      "[577462 rows x 5 columns]\n"
     ]
    },
    {
     "name": "stderr",
     "output_type": "stream",
     "text": [
      "<ipython-input-9-4c14866571b0>:3: SettingWithCopyWarning: \n",
      "A value is trying to be set on a copy of a slice from a DataFrame.\n",
      "Try using .loc[row_indexer,col_indexer] = value instead\n",
      "\n",
      "See the caveats in the documentation: https://pandas.pydata.org/pandas-docs/stable/user_guide/indexing.html#returning-a-view-versus-a-copy\n",
      "  df_coordinates[\"coordinates\"] = list(zip(df_filtered.latitude, df_filtered.longitude))\n"
     ]
    }
   ],
   "source": [
    "df_coordinates = df_filtered\n",
    "#df_coordinates[\"coordinates\"] = df_filtered[[\"latitude\", \"longitude\"]].values.tolist()\n",
    "df_coordinates[\"coordinates\"] = list(zip(df_filtered.latitude, df_filtered.longitude))\n",
    "print(df_coordinates)"
   ]
  },
  {
   "cell_type": "code",
   "execution_count": 23,
   "metadata": {},
   "outputs": [
    {
     "name": "stdout",
     "output_type": "stream",
     "text": [
      "         dt         Country  AverageTemperature   latitude  longitude\n",
      "0      1743         Albania             8.62000  41.153332  20.168331\n",
      "1      1743         Andorra             7.55600  42.546245   1.601554\n",
      "2      1743         Austria             2.48200  47.516231  14.550072\n",
      "3      1743         Belarus             0.76700  53.709807  27.953389\n",
      "4      1743         Belgium             7.10600  50.503887   4.469936\n",
      "...     ...             ...                 ...        ...        ...\n",
      "48238  2013  Western Sahara            23.74425  24.215527 -12.885834\n",
      "48239  2013           Yemen            28.12975  15.552727  48.516388\n",
      "48240  2013          Zambia            21.19600 -13.133897  27.849332\n",
      "48241  2013        Zimbabwe            20.71075 -19.015438  29.154857\n",
      "48242  2013           Åland             6.22975  60.178525  19.915610\n",
      "\n",
      "[48243 rows x 5 columns]\n"
     ]
    }
   ],
   "source": [
    "\n",
    "df_grouped = df_coordinates.groupby([df_temp.index.year, \"Country\" ]).agg({\"AverageTemperature\": \"mean\", \"latitude\": \"first\", \"longitude\": \"first\"}).reset_index()\n",
    "print(df_grouped)"
   ]
  },
  {
   "cell_type": "code",
   "execution_count": 11,
   "metadata": {},
   "outputs": [],
   "source": [
    "countries = df_temp.Country.unique()"
   ]
  },
  {
   "cell_type": "code",
   "execution_count": 27,
   "metadata": {},
   "outputs": [
    {
     "name": "stderr",
     "output_type": "stream",
     "text": [
      "/Users/lukashoppe/opt/anaconda3/lib/python3.8/site-packages/pandas/core/indexing.py:1596: SettingWithCopyWarning: \n",
      "A value is trying to be set on a copy of a slice from a DataFrame.\n",
      "Try using .loc[row_indexer,col_indexer] = value instead\n",
      "\n",
      "See the caveats in the documentation: https://pandas.pydata.org/pandas-docs/stable/user_guide/indexing.html#returning-a-view-versus-a-copy\n",
      "  self.obj[key] = _infer_fill_value(value)\n",
      "/Users/lukashoppe/opt/anaconda3/lib/python3.8/site-packages/pandas/core/indexing.py:1765: SettingWithCopyWarning: \n",
      "A value is trying to be set on a copy of a slice from a DataFrame.\n",
      "Try using .loc[row_indexer,col_indexer] = value instead\n",
      "\n",
      "See the caveats in the documentation: https://pandas.pydata.org/pandas-docs/stable/user_guide/indexing.html#returning-a-view-versus-a-copy\n",
      "  isetter(loc, value)\n"
     ]
    },
    {
     "name": "stdout",
     "output_type": "stream",
     "text": [
      "         dt   Country  AverageTemperature   latitude  longitude  RollingAvg\n",
      "0      1743     Åland            4.384000  60.178525  19.915610         NaN\n",
      "1      1744     Åland            6.698500  60.178525  19.915610         NaN\n",
      "2      1745     Åland           -3.896500  60.178525  19.915610        2.40\n",
      "3      1746     Åland                 NaN  60.178525  19.915610         NaN\n",
      "4      1747     Åland                 NaN  60.178525  19.915610         NaN\n",
      "...     ...       ...                 ...        ...        ...         ...\n",
      "48238  2009  Zimbabwe           21.377250 -19.015438  29.154857       21.51\n",
      "48239  2010  Zimbabwe           21.986250 -19.015438  29.154857       21.64\n",
      "48240  2011  Zimbabwe           21.602417 -19.015438  29.154857       21.66\n",
      "48241  2012  Zimbabwe           21.521333 -19.015438  29.154857       21.70\n",
      "48242  2013  Zimbabwe           20.710750 -19.015438  29.154857       21.28\n",
      "\n",
      "[48243 rows x 6 columns]\n"
     ]
    }
   ],
   "source": [
    "df_rolling = pd.DataFrame(columns=df_grouped.columns)\n",
    "rolling_period = 3\n",
    "for country in countries:\n",
    "    subset = df_grouped[df_grouped.Country == country]\n",
    "    for i in range(0, subset.shape[0]-(rolling_period-1)):\n",
    "        subset.loc[subset.index[i+(rolling_period-1)], \"RollingAvg\"] = np.round(\n",
    "            (subset.iloc[i, 2] + subset.iloc[i+1, 2] + subset.iloc[i+2, 2])/rolling_period, 2)\n",
    "    df_rolling = df_rolling.append(subset, ignore_index=True)\n",
    "print(df_rolling)"
   ]
  },
  {
   "cell_type": "code",
   "execution_count": 25,
   "metadata": {},
   "outputs": [
    {
     "data": {
      "text/plain": [
       "RangeIndex(start=0, stop=48243, step=1)"
      ]
     },
     "execution_count": 25,
     "metadata": {},
     "output_type": "execute_result"
    }
   ],
   "source": [
    "df_grouped.index"
   ]
  },
  {
   "cell_type": "code",
   "execution_count": 28,
   "metadata": {},
   "outputs": [
    {
     "name": "stdout",
     "output_type": "stream",
     "text": [
      "       year        lat        lon    temp\n",
      "2      1745  60.178525  19.915610 -0.4093\n",
      "9      1752  60.178525  19.915610  0.0928\n",
      "10     1753  60.178525  19.915610 -0.0032\n",
      "11     1754  60.178525  19.915610 -0.0278\n",
      "12     1755  60.178525  19.915610  0.2281\n",
      "...     ...        ...        ...     ...\n",
      "48238  2009 -19.015438  29.154857  0.0502\n",
      "48239  2010 -19.015438  29.154857  0.0566\n",
      "48240  2011 -19.015438  29.154857  0.0575\n",
      "48241  2012 -19.015438  29.154857  0.0595\n",
      "48242  2013 -19.015438  29.154857  0.0390\n",
      "\n",
      "[41785 rows x 4 columns]\n"
     ]
    }
   ],
   "source": [
    "grouped_df_country = df_rolling[df_rolling['AverageTemperature'].notna()]\n",
    "grouped_df_country = grouped_df_country.groupby(['Country'], as_index=False).head(10)\n",
    "grouped_df_country = grouped_df_country.groupby(\n",
    "    'Country')[['AverageTemperature']].mean()\n",
    "grouped_df_country = grouped_df_country.reset_index()\n",
    "grouped_df_country.columns = ['Country', 'Base_Temp']\n",
    "df_merged = df_rolling.merge(\n",
    "    right=grouped_df_country, how='left', left_on='Country', right_on='Country')\n",
    "df_merged.loc[:, 'Temp_Change'] = round(\n",
    "    (df_merged.loc[:, 'RollingAvg'] / df_merged.loc[:, 'Base_Temp']) - 1, 4)\n",
    "\n",
    "df_final = df_merged.drop(\n",
    "    columns=['AverageTemperature', 'RollingAvg', 'Base_Temp', 'Country'])\n",
    "df_final.columns = ['year', 'lat', 'lon', 'temp']\n",
    "df_final.dropna(axis=0, how='any', inplace=True)\n",
    "\n",
    "print(df_final)"
   ]
  },
  {
   "cell_type": "code",
   "execution_count": 30,
   "metadata": {},
   "outputs": [],
   "source": [
    "data = df_to_geojson(\n",
    "    df_final,\n",
    "    properties=['temp', 'year'],\n",
    "    lat='lat',\n",
    "    lon='lon',\n",
    "    precision=4,\n",
    "    filename='bycountries.json'\n",
    ")"
   ]
  },
  {
   "cell_type": "code",
   "execution_count": null,
   "metadata": {},
   "outputs": [],
   "source": []
  },
  {
   "cell_type": "code",
   "execution_count": 14,
   "metadata": {},
   "outputs": [
    {
     "data": {
      "text/plain": [
       "pandas.core.indexes.datetimes.DatetimeIndex"
      ]
     },
     "execution_count": 14,
     "metadata": {},
     "output_type": "execute_result"
    }
   ],
   "source": [
    "type(df_temp.index)"
   ]
  }
 ],
 "metadata": {
  "interpreter": {
   "hash": "371eaf2d2a095bf358e21069aac2c74262c839c54383e683e1fc7046e990c235"
  },
  "kernelspec": {
   "display_name": "Python 3.8.5 64-bit ('base': conda)",
   "name": "python3"
  },
  "language_info": {
   "codemirror_mode": {
    "name": "ipython",
    "version": 3
   },
   "file_extension": ".py",
   "mimetype": "text/x-python",
   "name": "python",
   "nbconvert_exporter": "python",
   "pygments_lexer": "ipython3",
   "version": "3.8.5"
  },
  "orig_nbformat": 2
 },
 "nbformat": 4,
 "nbformat_minor": 2
}